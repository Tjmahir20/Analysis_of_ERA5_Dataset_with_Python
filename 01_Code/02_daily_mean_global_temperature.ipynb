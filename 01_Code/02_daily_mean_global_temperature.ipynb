{
 "cells": [
  {
   "cell_type": "code",
   "execution_count": 1,
   "id": "cc59cd9e-233f-47d7-a93b-02af031c8caf",
   "metadata": {},
   "outputs": [],
   "source": [
    "import xarray as xr\n",
    "import matplotlib.pyplot as plt"
   ]
  },
  {
   "cell_type": "code",
   "execution_count": 2,
   "id": "e4560c8e-a839-4308-838f-5033f070d0bf",
   "metadata": {},
   "outputs": [
    {
     "name": "stdout",
     "output_type": "stream",
     "text": [
      "<xarray.Dataset>\n",
      "Dimensions:    (longitude: 1440, latitude: 721, time: 151)\n",
      "Coordinates:\n",
      "  * longitude  (longitude) float32 0.0 0.25 0.5 0.75 ... 359.0 359.2 359.5 359.8\n",
      "  * latitude   (latitude) float32 90.0 89.75 89.5 89.25 ... -89.5 -89.75 -90.0\n",
      "    expver     int32 ...\n",
      "  * time       (time) datetime64[ns] 1990-01-01 1990-01-02 ... 1990-05-31\n",
      "Data variables:\n",
      "    t2m        (time, latitude, longitude) float32 ...\n"
     ]
    }
   ],
   "source": [
    "# Define the path to the file\n",
    "file_path = 'data/Temperature/ERA5/ERA5_2mTemp_19900101-19900531_00h.nc'\n",
    "# Open the netCDF file using xarray\n",
    "ds = xr.open_dataset(file_path)\n",
    "print(ds)"
   ]
  },
  {
   "cell_type": "code",
   "execution_count": null,
   "id": "40324498-6a94-449e-8d36-257930fecf96",
   "metadata": {},
   "outputs": [],
   "source": [
    "# Calculate the daily mean global temperature (mean over latitude and longitude)\n",
    "daily_mean_global_temp = ds['t2m'].mean(dim=['latitude', 'longitude'])\n",
    "\n",
    "# Create a time series plot\n",
    "plt.figure(figsize=(10, 6))\n",
    "daily_mean_global_temp.plot()\n",
    "plt.title('Daily Mean Global Temperature')\n",
    "plt.xlabel('Date')\n",
    "plt.ylabel('Temperature (K)')\n",
    "output_file = '02_Outputs/T2_Daily_Mean_Global_Temperature.png'\n",
    "# Save the figure\n",
    "plt.savefig(output_file, bbox_inches='tight')\n",
    "plt.show()"
   ]
  },
  {
   "cell_type": "code",
   "execution_count": 5,
   "id": "51a26d69-7728-4d87-bf25-c8f71b64bb72",
   "metadata": {},
   "outputs": [
    {
     "data": {
      "text/plain": [
       "<Figure size 640x480 with 0 Axes>"
      ]
     },
     "metadata": {},
     "output_type": "display_data"
    }
   ],
   "source": []
  },
  {
   "cell_type": "code",
   "execution_count": null,
   "id": "ae7bd663-0977-4572-b30a-9c461c07613b",
   "metadata": {},
   "outputs": [],
   "source": []
  }
 ],
 "metadata": {
  "kernelspec": {
   "display_name": "Python",
   "language": "python",
   "name": "python3"
  },
  "language_info": {
   "codemirror_mode": {
    "name": "ipython",
    "version": 3
   },
   "file_extension": ".py",
   "mimetype": "text/x-python",
   "name": "python",
   "nbconvert_exporter": "python",
   "pygments_lexer": "ipython3",
   "version": "3.8.10"
  }
 },
 "nbformat": 4,
 "nbformat_minor": 5
}
